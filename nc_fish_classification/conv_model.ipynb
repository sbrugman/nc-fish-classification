{
 "cells": [
  {
   "cell_type": "markdown",
   "metadata": {},
   "source": [
    "# Nature Conservancy Fish Classification - Conv Model"
   ]
  },
  {
   "cell_type": "markdown",
   "metadata": {},
   "source": [
    "### Imports & environment"
   ]
  },
  {
   "cell_type": "code",
   "execution_count": null,
   "metadata": {
    "collapsed": false
   },
   "outputs": [],
   "source": [
    "import os\n",
    "\n",
    "from keras.callbacks import ModelCheckpoint\n",
    "from keras.layers import GlobalAveragePooling2D, Activation\n",
    "\n",
    "from utils import * \n",
    "from vgg16bn import Vgg16BN\n",
    "\n",
    "ROOT_DIR = os.getcwd()\n",
    "DATA_HOME_DIR = ROOT_DIR + '/data'\n",
    "%matplotlib inline"
   ]
  },
  {
   "cell_type": "markdown",
   "metadata": {},
   "source": [
    "### Config & Hyperparameters"
   ]
  },
  {
   "cell_type": "code",
   "execution_count": null,
   "metadata": {
    "collapsed": false
   },
   "outputs": [],
   "source": [
    "# paths\n",
    "split_train_path = DATA_HOME_DIR + '/train/'\n",
    "full_train_path = DATA_HOME_DIR + '/train_full/'\n",
    "valid_path = DATA_HOME_DIR + '/valid/'\n",
    "test_path = DATA_HOME_DIR + '/test/'\n",
    "model_path = ROOT_DIR + '/models/vggbn_conv_640x360/'\n",
    "submission_path = ROOT_DIR + '/submissions/vggbn_conv_640x360/'\n",
    "\n",
    "# data\n",
    "batch_size = 32\n",
    "nb_split_train_samples = 3327\n",
    "nb_full_train_samples = 3777\n",
    "nb_valid_samples = 450\n",
    "nb_test_samples = 1000\n",
    "classes = [\"ALB\", \"BET\", \"DOL\", \"LAG\", \"NoF\", \"OTHER\", \"SHARK\", \"YFT\"]\n",
    "nb_classes = len(classes)\n",
    "\n",
    "# model\n",
    "nb_aug = 5\n",
    "n_filters = 158\n",
    "lr = 1e-3\n",
    "dropout = 0.5\n",
    "clip = 0.01"
   ]
  },
  {
   "cell_type": "code",
   "execution_count": null,
   "metadata": {
    "collapsed": true
   },
   "outputs": [],
   "source": [
    "def get_classes(trn_path, val_path, test_path):\n",
    "    batches = get_batches(trn_path, shuffle=False, batch_size=1)\n",
    "    val_batches = get_batches(val_path, shuffle=False, batch_size=1)\n",
    "    test_batches = get_batches(test_path, shuffle=False, batch_size=1)\n",
    "    return (val_batches.classes, batches.classes, onehot(val_batches.classes), onehot(batches.classes),\n",
    "        val_batches.filenames, batches.filenames, test_batches.filenames)"
   ]
  },
  {
   "cell_type": "code",
   "execution_count": null,
   "metadata": {
    "collapsed": false
   },
   "outputs": [],
   "source": [
    "(val_classes, trn_classes, val_labels, trn_labels, \n",
    "    val_filenames, filenames, test_filenames) = get_classes(split_train_path, valid_path, test_path)"
   ]
  },
  {
   "cell_type": "markdown",
   "metadata": {},
   "source": [
    "### Build Model and Precompute/Load Conv Features"
   ]
  },
  {
   "cell_type": "code",
   "execution_count": null,
   "metadata": {
    "collapsed": false
   },
   "outputs": [],
   "source": [
    "vgg640 = Vgg16BN((360, 640)).model\n",
    "vgg640.pop()\n",
    "vgg640.compile(Adam(), 'categorical_crossentropy', metrics=['accuracy'])"
   ]
  },
  {
   "cell_type": "code",
   "execution_count": null,
   "metadata": {
    "collapsed": false
   },
   "outputs": [],
   "source": [
    "# batches = get_batches(split_train_path, batch_size=1, target_size=(360, 640), shuffle=False,\n",
    "#                       class_mode=None)\n",
    "# conv_trn_feat = vgg640.predict_generator(batches, nb_split_train_samples)\n",
    "# save_array(DATA_HOME_DIR + '/precomputed/trn_ft_640.dat', conv_trn_feat)\n",
    "\n",
    "# del conv_trn_feat"
   ]
  },
  {
   "cell_type": "code",
   "execution_count": null,
   "metadata": {
    "collapsed": false
   },
   "outputs": [],
   "source": [
    "# val_batches = get_batches(valid_path, batch_size=1, target_size=(360, 640), shuffle=False,\n",
    "#                           class_mode=None)\n",
    "# conv_val_feat = vgg640.predict_generator(val_batches, nb_valid_samples)\n",
    "# save_array(DATA_HOME_DIR + '/precomputed/val_ft_640.dat', conv_val_feat)\n",
    "\n",
    "# del conv_val_feat"
   ]
  },
  {
   "cell_type": "code",
   "execution_count": null,
   "metadata": {
    "collapsed": false
   },
   "outputs": [],
   "source": [
    "# test_batches = get_batches(test_path, batch_size=1, target_size=(360, 640), shuffle=False,\n",
    "#                            class_mode=None)\n",
    "# conv_test_feat = vgg640.predict_generator(test_batches, nb_test_samples)\n",
    "# save_array(DATA_HOME_DIR + '/precomputed/test_ft_640.dat', conv_test_feat)\n",
    "\n",
    "# del conv_test_feat"
   ]
  },
  {
   "cell_type": "code",
   "execution_count": null,
   "metadata": {
    "collapsed": true
   },
   "outputs": [],
   "source": [
    "conv_val_feat = load_array(DATA_HOME_DIR + '/precomputed/val_ft_640.dat')\n",
    "conv_trn_feat = load_array(DATA_HOME_DIR + '/precomputed/trn_ft_640.dat')\n",
    "conv_test_feat = load_array(DATA_HOME_DIR + '/precomputed/test_ft_640.dat')"
   ]
  },
  {
   "cell_type": "markdown",
   "metadata": {},
   "source": [
    "### Train Model"
   ]
  },
  {
   "cell_type": "code",
   "execution_count": null,
   "metadata": {
    "collapsed": false
   },
   "outputs": [],
   "source": [
    "conv_layers, _ = split_at(vgg640, Convolution2D)"
   ]
  },
  {
   "cell_type": "code",
   "execution_count": null,
   "metadata": {
    "collapsed": true
   },
   "outputs": [],
   "source": [
    "def get_lrg_layers():\n",
    "    return [\n",
    "        BatchNormalization(axis=1, input_shape=conv_layers[-1].output_shape[1:]),\n",
    "        Convolution2D(n_filters, 3, 3, activation='relu', border_mode='same'),\n",
    "        BatchNormalization(axis=1),\n",
    "        MaxPooling2D(),\n",
    "        Convolution2D(n_filters, 3, 3, activation='relu', border_mode='same'),\n",
    "        BatchNormalization(axis=1),\n",
    "        MaxPooling2D(),\n",
    "        Convolution2D(n_filters, 3, 3, activation='relu', border_mode='same'),\n",
    "        BatchNormalization(axis=1),\n",
    "        MaxPooling2D((1, 2)),\n",
    "        Convolution2D(8, 3, 3, border_mode='same'),\n",
    "        Dropout(dropout),\n",
    "        GlobalAveragePooling2D(),\n",
    "        Activation('softmax')\n",
    "    ]"
   ]
  },
  {
   "cell_type": "code",
   "execution_count": null,
   "metadata": {
    "collapsed": false
   },
   "outputs": [],
   "source": [
    "lrg_model = Sequential(get_lrg_layers())\n",
    "\n",
    "lrg_model.summary()"
   ]
  },
  {
   "cell_type": "code",
   "execution_count": null,
   "metadata": {
    "collapsed": true
   },
   "outputs": [],
   "source": [
    "lrg_model.compile(Adam(lr=lr), loss='categorical_crossentropy', metrics=['accuracy'])\n",
    "\n",
    "model_fn = model_path + '{val_loss:.2f}-loss_{epoch}epoch_640x360_vgg16bn.h5'\n",
    "ckpt = ModelCheckpoint(filepath=model_fn, monitor='val_loss',\n",
    "                       save_best_only=True, save_weights_only=True)"
   ]
  },
  {
   "cell_type": "code",
   "execution_count": null,
   "metadata": {
    "collapsed": false
   },
   "outputs": [],
   "source": [
    "lrg_model.fit(conv_trn_feat, trn_labels, batch_size=batch_size, nb_epoch=2, verbose=2,\n",
    "             validation_data=(conv_val_feat, val_labels), callbacks=[ckpt])"
   ]
  },
  {
   "cell_type": "code",
   "execution_count": null,
   "metadata": {
    "collapsed": false
   },
   "outputs": [],
   "source": [
    "lrg_model.optimizer.lr /= 10\n",
    "\n",
    "lrg_model.fit(conv_trn_feat, trn_labels, batch_size=batch_size, nb_epoch=5, verbose=2,\n",
    "             validation_data=(conv_val_feat, val_labels), callbacks=[ckpt])"
   ]
  },
  {
   "cell_type": "code",
   "execution_count": null,
   "metadata": {
    "collapsed": false
   },
   "outputs": [],
   "source": [
    "lrg_model.optimizer.lr /= 10\n",
    "\n",
    "lrg_model.fit(conv_trn_feat, trn_labels, batch_size=batch_size, nb_epoch=5, verbose=2,\n",
    "             validation_data=(conv_val_feat, val_labels), callbacks=[ckpt])"
   ]
  },
  {
   "cell_type": "code",
   "execution_count": null,
   "metadata": {
    "collapsed": false,
    "scrolled": true
   },
   "outputs": [],
   "source": [
    "lrg_model.optimizer.lr /= 10\n",
    "\n",
    "lrg_model.fit(conv_trn_feat, trn_labels, batch_size=batch_size, nb_epoch=5, verbose=2,\n",
    "             validation_data=(conv_val_feat, val_labels), callbacks=[ckpt])"
   ]
  },
  {
   "cell_type": "code",
   "execution_count": null,
   "metadata": {
    "collapsed": false
   },
   "outputs": [],
   "source": [
    "def gen_preds_from_saved(use_all=True, weights_file=None):\n",
    "    model = Sequential(get_lrg_layers())\n",
    "\n",
    "    if use_all:\n",
    "        preds = np.zeros((nb_test_samples, nb_classes))\n",
    "        \n",
    "        for root, dirs, files in os.walk(model_path):\n",
    "            n_mods = 0\n",
    "            for f in files:\n",
    "                model.load_weights(model_path + f)\n",
    "                preds += model.predict(conv_test_feat, batch_size=batch_size)\n",
    "                n_mods += 1\n",
    "\n",
    "        preds /= n_mods\n",
    "\n",
    "    else:\n",
    "        model.load_weights(model_path + weights_file)\n",
    "        preds = model.predict(conv_test_feat, batch_size=batch_size)\n",
    "        \n",
    "    return preds\n",
    "    \n",
    "\n",
    "    \n",
    "def gen_preds(model):\n",
    "    \n",
    "    if nb_aug:\n",
    "        \n",
    "        gen = ImageDataGenerator(rotation_range=10, width_shift_range=0.05, zoom_range=0.05,\n",
    "                                 channel_shift_range=10, height_shift_range=0.05, shear_range=0.05,\n",
    "                                 horizontal_flip=True)\n",
    "        predictions = np.zeros((nb_test_samples, nb_classes))\n",
    "        \n",
    "        for aug in range(nb_aug):\n",
    "            \n",
    "            test_batches = get_batches(test_path, batch_size=1, target_size=(360, 640), shuffle=False,\n",
    "                                       class_mode=None, gen=gen)\n",
    "            conv_test_feat = vgg640.predict_generator(test_batches, nb_test_samples)\n",
    "            predictions += model.predict(conv_test_feat, batch_size=batch_size)\n",
    "            \n",
    "        predictions /= nb_aug\n",
    "        \n",
    "    else:\n",
    "        predictions = model.predict(conv_test_feat, batch_size=batch_size)\n",
    "        \n",
    "    return predictions\n",
    "\n",
    "\n",
    "# preds = gen_preds_from_saved(use_all=True, weights_file=None)\n",
    "preds = gen_preds(model)"
   ]
  },
  {
   "cell_type": "code",
   "execution_count": null,
   "metadata": {
    "collapsed": false
   },
   "outputs": [],
   "source": [
    "def write_submission(predictions, filenames):\n",
    "    preds = np.clip(predictions, clip, 1-clip)\n",
    "    sub_fn = submission_path + 'no-aug_{}clip_vgg_bn'.format(clip)\n",
    "\n",
    "    with open(sub_fn + '.csv', 'w') as f:\n",
    "        print(\"Writing Predictions to CSV...\")\n",
    "        f.write('image,ALB,BET,DOL,LAG,NoF,OTHER,SHARK,YFT\\n')\n",
    "        for i, image_name in enumerate(filenames):\n",
    "            pred = ['%.6f' % p for p in preds[i, :]]\n",
    "            f.write('%s,%s\\n' % (os.path.basename(image_name), ','.join(pred)))\n",
    "        print(\"Done.\")\n",
    "\n",
    "write_submission(preds, test_filenames)"
   ]
  }
 ],
 "metadata": {
  "anaconda-cloud": {},
  "kernelspec": {
   "display_name": "Python [conda root]",
   "language": "python",
   "name": "conda-root-py"
  },
  "language_info": {
   "codemirror_mode": {
    "name": "ipython",
    "version": 3
   },
   "file_extension": ".py",
   "mimetype": "text/x-python",
   "name": "python",
   "nbconvert_exporter": "python",
   "pygments_lexer": "ipython3",
   "version": "3.5.2"
  }
 },
 "nbformat": 4,
 "nbformat_minor": 1
}
